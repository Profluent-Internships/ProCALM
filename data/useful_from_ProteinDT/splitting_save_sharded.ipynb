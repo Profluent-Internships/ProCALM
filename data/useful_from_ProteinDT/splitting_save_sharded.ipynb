{
 "cells": [
  {
   "cell_type": "code",
   "execution_count": 1,
   "metadata": {},
   "outputs": [],
   "source": [
    "import os\n",
    "import numpy as np\n",
    "import pandas as pd\n",
    "import torch\n",
    "import random\n",
    "from streaming.base import MDSWriter"
   ]
  },
  {
   "cell_type": "code",
   "execution_count": 2,
   "metadata": {},
   "outputs": [],
   "source": [
    "data = np.load('pairwise_representation.npz')\n",
    "text_embeddings = data['description_repr_array']\n",
    "#convert to torch tensor\n",
    "text_embeddings = torch.tensor(text_embeddings)\n",
    "\n",
    "#load text strings from text_sequence.txt\n",
    "with open('text_sequence.txt', 'r') as f:\n",
    "    text_strings = f.readlines()\n",
    "    #strip newline characters\n",
    "    text_strings = [x.strip() for x in text_strings]\n",
    "\n",
    "#load text strings from text_sequence.txt\n",
    "with open('protein_sequence.txt', 'r') as f:\n",
    "    protein_strings = f.readlines()\n",
    "    #strip newline characters\n",
    "    protein_strings = [x.strip() for x in protein_strings]\n",
    "    #remove spaces\n",
    "    protein_strings = [x.replace(' ', '') for x in protein_strings]"
   ]
  },
  {
   "cell_type": "code",
   "execution_count": 3,
   "metadata": {},
   "outputs": [],
   "source": [
    "#create a dictionary to map text strings to their embeddings\n",
    "text_dict = dict(zip(text_strings, text_embeddings))\n",
    "#seems to already automatically drop duplicate keys\n",
    "#text_dict = {k: v for k, v in text_dict.items() if k}"
   ]
  },
  {
   "cell_type": "code",
   "execution_count": 4,
   "metadata": {},
   "outputs": [
    {
     "data": {
      "text/plain": [
       "102234"
      ]
     },
     "execution_count": 4,
     "metadata": {},
     "output_type": "execute_result"
    }
   ],
   "source": [
    "len(text_dict)"
   ]
  },
  {
   "cell_type": "code",
   "execution_count": 14,
   "metadata": {},
   "outputs": [],
   "source": [
    "torch.save(text_dict, '../text2encoding.pt')"
   ]
  },
  {
   "cell_type": "markdown",
   "metadata": {},
   "source": [
    "### Selected common ECs"
   ]
  },
  {
   "cell_type": "code",
   "execution_count": 5,
   "metadata": {},
   "outputs": [
    {
     "data": {
      "text/html": [
       "<div>\n",
       "<style scoped>\n",
       "    .dataframe tbody tr th:only-of-type {\n",
       "        vertical-align: middle;\n",
       "    }\n",
       "\n",
       "    .dataframe tbody tr th {\n",
       "        vertical-align: top;\n",
       "    }\n",
       "\n",
       "    .dataframe thead th {\n",
       "        text-align: right;\n",
       "    }\n",
       "</style>\n",
       "<table border=\"1\" class=\"dataframe\">\n",
       "  <thead>\n",
       "    <tr style=\"text-align: right;\">\n",
       "      <th></th>\n",
       "      <th>Sequence</th>\n",
       "      <th>Text</th>\n",
       "    </tr>\n",
       "  </thead>\n",
       "  <tbody>\n",
       "    <tr>\n",
       "      <th>0</th>\n",
       "      <td>MVRLFYNPIKYLFYRRSCKKRLRKALKKLNFYHPPKECCQIYRLLE...</td>\n",
       "      <td>Plays a role in virus cell tropism, and may be...</td>\n",
       "    </tr>\n",
       "    <tr>\n",
       "      <th>1</th>\n",
       "      <td>MVRLFHNPIKCLFYRGSRKTREKKLRKSLKKLNFYHPPGDCCQIYR...</td>\n",
       "      <td>Plays a role in virus cell tropism, and may be...</td>\n",
       "    </tr>\n",
       "    <tr>\n",
       "      <th>2</th>\n",
       "      <td>MVRLFRNPIKCIFYRRSRKIQEKKLRKSLKKLNFYHPPEDCCQIYR...</td>\n",
       "      <td>Plays a role in virus cell tropism, and may be...</td>\n",
       "    </tr>\n",
       "    <tr>\n",
       "      <th>3</th>\n",
       "      <td>MVRLFRNPIKCIFYRRSRKIQEKKLRKSLKKLNFYHPPEDCCQIYR...</td>\n",
       "      <td>Plays a role in virus cell tropism, and may be...</td>\n",
       "    </tr>\n",
       "    <tr>\n",
       "      <th>4</th>\n",
       "      <td>MGNKESKYLEMCSEEAWLNIPNIFKCIFIRKLFYNKWLKYQEKKLK...</td>\n",
       "      <td>Plays a role in virus cell tropism, and may be...</td>\n",
       "    </tr>\n",
       "    <tr>\n",
       "      <th>...</th>\n",
       "      <td>...</td>\n",
       "      <td>...</td>\n",
       "    </tr>\n",
       "    <tr>\n",
       "      <th>441008</th>\n",
       "      <td>MTDPYSNFFTDWFKSNPFHHYPNSSTNPSPHPLPPVTPPSSFFFFP...</td>\n",
       "      <td>Transcriptional regulator required for normal ...</td>\n",
       "    </tr>\n",
       "    <tr>\n",
       "      <th>441009</th>\n",
       "      <td>MNSYETKGLSFESPSFIEWLKPQSSTTSSKSVLYRGKTRDAISRSN...</td>\n",
       "      <td>Probable transcriptional regulator. Belongs to...</td>\n",
       "    </tr>\n",
       "    <tr>\n",
       "      <th>441010</th>\n",
       "      <td>MLFSTVLSHRTLYILTCPNTLIHSYTHPHIHAYLAFTGFLTQLHHL...</td>\n",
       "      <td>Probable transcriptional regulator. Belongs to...</td>\n",
       "    </tr>\n",
       "    <tr>\n",
       "      <th>441011</th>\n",
       "      <td>MSNPACSNLFNNGCDHNSFNYSTSLSYIYNSHGSYYYSNTTNPNYI...</td>\n",
       "      <td>Probable transcriptional regulator. Belongs to...</td>\n",
       "    </tr>\n",
       "    <tr>\n",
       "      <th>441012</th>\n",
       "      <td>MYNNNQYSFSGDEDSVVLSLGPPGQQYPSHNKPTSTKPSSDHEFNH...</td>\n",
       "      <td>Probable transcriptional regulator (Probable)....</td>\n",
       "    </tr>\n",
       "  </tbody>\n",
       "</table>\n",
       "<p>441013 rows × 2 columns</p>\n",
       "</div>"
      ],
      "text/plain": [
       "                                                 Sequence  \\\n",
       "0       MVRLFYNPIKYLFYRRSCKKRLRKALKKLNFYHPPKECCQIYRLLE...   \n",
       "1       MVRLFHNPIKCLFYRGSRKTREKKLRKSLKKLNFYHPPGDCCQIYR...   \n",
       "2       MVRLFRNPIKCIFYRRSRKIQEKKLRKSLKKLNFYHPPEDCCQIYR...   \n",
       "3       MVRLFRNPIKCIFYRRSRKIQEKKLRKSLKKLNFYHPPEDCCQIYR...   \n",
       "4       MGNKESKYLEMCSEEAWLNIPNIFKCIFIRKLFYNKWLKYQEKKLK...   \n",
       "...                                                   ...   \n",
       "441008  MTDPYSNFFTDWFKSNPFHHYPNSSTNPSPHPLPPVTPPSSFFFFP...   \n",
       "441009  MNSYETKGLSFESPSFIEWLKPQSSTTSSKSVLYRGKTRDAISRSN...   \n",
       "441010  MLFSTVLSHRTLYILTCPNTLIHSYTHPHIHAYLAFTGFLTQLHHL...   \n",
       "441011  MSNPACSNLFNNGCDHNSFNYSTSLSYIYNSHGSYYYSNTTNPNYI...   \n",
       "441012  MYNNNQYSFSGDEDSVVLSLGPPGQQYPSHNKPTSTKPSSDHEFNH...   \n",
       "\n",
       "                                                     Text  \n",
       "0       Plays a role in virus cell tropism, and may be...  \n",
       "1       Plays a role in virus cell tropism, and may be...  \n",
       "2       Plays a role in virus cell tropism, and may be...  \n",
       "3       Plays a role in virus cell tropism, and may be...  \n",
       "4       Plays a role in virus cell tropism, and may be...  \n",
       "...                                                   ...  \n",
       "441008  Transcriptional regulator required for normal ...  \n",
       "441009  Probable transcriptional regulator. Belongs to...  \n",
       "441010  Probable transcriptional regulator. Belongs to...  \n",
       "441011  Probable transcriptional regulator. Belongs to...  \n",
       "441012  Probable transcriptional regulator (Probable)....  \n",
       "\n",
       "[441013 rows x 2 columns]"
      ]
     },
     "execution_count": 5,
     "metadata": {},
     "output_type": "execute_result"
    }
   ],
   "source": [
    "df = pd.DataFrame({'Sequence': protein_strings, 'Text': text_strings})\n",
    "df"
   ]
  },
  {
   "cell_type": "code",
   "execution_count": 6,
   "metadata": {},
   "outputs": [
    {
     "data": {
      "text/plain": [
       "Text\n",
       "Component of the ubiquinol-cytochrome c reductase complex (complex III or cytochrome b-c1 complex) that is part of the mitochondrial respiratory chain. The b-c1 complex mediates electron transfer from ubiquinol to cytochrome c. Contributes to the generation of a proton gradient across the mitochondrial membrane that is then used for ATP synthesis. Binds 2 heme b groups non-covalently. The cytochrome bc1 complex contains 11 subunits: 3 respiratory subunits (MT-CYB, CYC1 and UQCRFS1), 2 core proteins (UQCRC1 and UQCRC2) and 6 low-molecular weight proteins (UQCRH/QCR6, UQCRB/QCR7, UQCRQ/QCR8, UQCR10/QCR9, UQCR11/QCR10 and a cleavage product of UQCRFS1). This cytochrome bc1 complex then forms a dimer. Heme 1 (or BL or b562) is low-potential and absorbs at about 562 nm, and heme 2 (or BH or b566) is high-potential and absorbs at about 566 nm. Belongs to the cytochrome b family. The full-length protein contains only eight transmembrane helices, not nine as predicted by bioinformatics tools.                                                                                                                                                                                                                                                                                                                                                                                                                 1423\n",
       "Protein S19 forms a complex with S13 that binds strongly to the 16S ribosomal RNA. Belongs to the universal ribosomal protein uS19 family.                                                                                                                                                                                                                                                                                                                                                                                                                                                                                                                                                                                                                                                                                                                                                                                                                                                                                                                                                                                                                                                                                                                                                                                                                                                                                                               983\n",
       "Belongs to the bacterial ribosomal protein bL33 family.                                                                                                                                                                                                                                                                                                                                                                                                                                                                                                                                                                                                                                                                                                                                                                                                                                                                                                                                                                                                                                                                                                                                                                                                                                                                                                                                                                                                  916\n",
       "Belongs to the universal ribosomal protein uS2 family.                                                                                                                                                                                                                                                                                                                                                                                                                                                                                                                                                                                                                                                                                                                                                                                                                                                                                                                                                                                                                                                                                                                                                                                                                                                                                                                                                                                                   912\n",
       "Binds directly to 23S ribosomal RNA and is necessary for the in vitro assembly process of the 50S ribosomal subunit. It is not involved in the protein synthesizing functions of that subunit. Belongs to the bacterial ribosomal protein bL20 family.                                                                                                                                                                                                                                                                                                                                                                                                                                                                                                                                                                                                                                                                                                                                                                                                                                                                                                                                                                                                                                                                                                                                                                                                   856\n",
       "                                                                                                                                                                                                                                                                                                                                                                                                                                                                                                                                                                                                                                                                                                                                                                                                                                                                                                                                                                                                                                                                                                                                                                                                                                                                                                                                                                                                                                                        ... \n",
       "May be involved in the O-methylation of suberin phenylpropanoid precursors. Homodimer. Accumulates preferentially in the roots and is located predominantly in the region of the endodermis, low levels are seen in the leaves, stems and other shoot organs. Belongs to the class I-like SAM-binding methyltransferase superfamily. Cation-independent O-methyltransferase family. COMT subfamily.                                                                                                                                                                                                                                                                                                                                                                                                                                                                                                                                                                                                                                                                                                                                                                                                                                                                                                                                                                                                                                                        1\n",
       "Interacts with RPP13L4/ZAR1. Induced by elevated temperature (e.g. at 25 degrees Celsius). The protein kinase domain is predicted to be catalytically inactive. Belongs to the protein kinase superfamily. Ser/Thr protein kinase family. ZRK subfamily.                                                                                                                                                                                                                                                                                                                                                                                                                                                                                                                                                                                                                                                                                                                                                                                                                                                                                                                                                                                                                                                                                                                                                                                                   1\n",
       "Required for RPP13L4/ZAR1 recognition of the Pseudomonas syringae type III effector (T3E) HopF2a. ATP + L-seryl-[protein] = ADP + H(+) + O-phospho-L-seryl-[protein] ATP + L-threonyl-[protein] = ADP + H(+) + O-phospho-L-threonyl-[protein] Interacts with RPP13L4/ZAR1. Reduced resistance to Pseudomonas syringae expressing HopZ1a. Belongs to the protein kinase superfamily. Ser/Thr protein kinase family. ZRK subfamily. Truncated N-terminus.                                                                                                                                                                                                                                                                                                                                                                                                                                                                                                                                                                                                                                                                                                                                                                                                                                                                                                                                                                                                    1\n",
       "The protein kinase domain is predicted to be catalytically inactive. Belongs to the protein kinase superfamily. Ser/Thr protein kinase family. ZRK subfamily. Truncated N-terminus. Truncated N-terminus. Truncated N-terminus. Truncated N-terminus. Truncated N-terminus. Truncated N-terminus. Truncated N-terminus. Truncated N-terminus. Truncated N-terminus. Truncated N-terminus. Truncated N-terminus. Truncated N-terminus. Truncated N-terminus. Truncated N-terminus. Truncated N-terminus. Truncated N-terminus. Truncated N-terminus. Truncated N-terminus. Truncated N-terminus. Truncated N-terminus. Truncated N-terminus. Truncated N-terminus. Truncated N-terminus. Truncated N-terminus. Truncated N-terminus. Truncated N-terminus. Truncated N-terminus. Truncated N-terminus. Truncated N-terminus. Truncated N-terminus. Truncated N-terminus. Truncated N-terminus. Truncated N-terminus. Truncated N-terminus. Truncated N-terminus. Truncated N-terminus. Truncated N-terminus. Truncated N-terminus. Truncated N-terminus. Truncated N-terminus. Truncated N-terminus. Truncated N-terminus. Truncated N-terminus.                                                                                                                                                                                                                                                                                                            1\n",
       "Serine/threonine-protein kinase that confers a broad-spectrum quantitative disease resistance (QDR) to the pathogenic biotrophic bacteria Xanthomonas campestris (e.g. pv. campestris (Xcc), pv. raphani, pv. armoriaceae and pv. incanae) by restricting bacterial spread to the vascular system from the infection site; X.campestris causes black rot disease in crops (PubMed:24068949, PubMed:26355215, PubMed:30948526). Seems to not have any kinase activity (PubMed:24068949). ATP + L-seryl-[protein] = ADP + H(+) + O-phospho-L-seryl-[protein] ATP + L-threonyl-[protein] = ADP + H(+) + O-phospho-L-threonyl-[protein] Component of a stable high-order oligomeric complex made of RKS1 and RPP13L4/ZAR1 which recruits Xanthomonas campestris effector XopAC/AvrAC-mediated uridylylated PBL2 in the presence of ATP to form a wheel-like pentameric resistosome; this complex triggers immunity toward X.campestris in vascular tissues (PubMed:26355215, PubMed:30948527, PubMed:30948526). Interacts with RPP13L4/ZAR1 and uridylylated PBL2 (PubMed:26355215, PubMed:30948526). Expressed at high levels in germinating seeds and at lower levels in adult leaves. Induced by elevated temperature (e.g. at 25 degrees Celsius). Increased sensitivity to the pathogenic biotrophic bacteria Xanthomonas campestris pv. campestris (Xcc). Belongs to the protein kinase superfamily. Ser/Thr protein kinase family. ZRK subfamily.       1\n",
       "Name: count, Length: 102234, dtype: int64"
      ]
     },
     "execution_count": 6,
     "metadata": {},
     "output_type": "execute_result"
    }
   ],
   "source": [
    "df['Text'].value_counts()"
   ]
  },
  {
   "cell_type": "code",
   "execution_count": 7,
   "metadata": {},
   "outputs": [
    {
     "data": {
      "text/plain": [
       "Text\n",
       "carbamoyl phosphate + L-aspartate = H(+) + N-carbamoyl-L-aspartate + phosphate Pyrimidine metabolism; UMP biosynthesis via de novo pathway; (S)-dihydroorotate from bicarbonate: step 2/3. Belongs to the aspartate/ornithine carbamoyltransferase superfamily. ATCase family.                                                                                                                                                                                                                                                                                                                                                                                                                                                                                                                                                                                                                                                                                                    615\n",
       "ATP + L-cysteine + tRNA(Cys) = AMP + diphosphate + L-cysteinyl-tRNA(Cys) Binds 1 zinc ion per subunit. Monomer. Belongs to the class-I aminoacyl-tRNA synthetase family.                                                                                                                                                                                                                                                                                                                                                                                                                                                                                                                                                                                                                                                                                                                                                                                                          666\n",
       "ATP-dependent specificity component of the Clp protease. It directs the protease to specific substrates. Can perform chaperone functions in the absence of ClpP. Component of the ClpX-ClpP complex. Forms a hexameric ring that, in the presence of ATP, binds to fourteen ClpP subunits assembled into a disk-like structure with a central cavity, resembling the structure of eukaryotic proteasomes. Belongs to the ClpX chaperone family.                                                                                                                                                                                                                                                                                                                                                                                                                                                                                                                                   634\n",
       "Involved in protein export. Acts as a chaperone by maintaining the newly synthesized protein in an open conformation. Functions as a peptidyl-prolyl cis-trans isomerase. [protein]-peptidylproline (omega=180) = [protein]-peptidylproline (omega=0) About half TF is bound to the ribosome near the polypeptide exit tunnel while the other half is free in the cytoplasm. Consists of 3 domains; the N-terminus binds the ribosome, the middle domain has PPIase activity, while the C-terminus has intrinsic chaperone activity on its own. Belongs to the FKBP-type PPIase family. Tig subfamily.                                                                                                                                                                                                                                                                                                                                                                            651\n",
       "Catalyzes the conversion of dethiobiotin (DTB) to biotin by the insertion of a sulfur atom into dethiobiotin via a radical-based mechanism. (4R,5S)-dethiobiotin + [sulfur carrier]-SH + 2 reduced [2Fe-2S]-[ferredoxin] + 2 S-adenosyl-L-methionine = 2 5'-deoxyadenosine + [sulfur carrier]-H + biotin + 2 L-methionine + 2 oxidized [2Fe-2S]-[ferredoxin] Binds 1 [4Fe-4S] cluster. The cluster is coordinated with 3 cysteines and an exchangeable S-adenosyl-L-methionine. Binds 1 [2Fe-2S] cluster. The cluster is coordinated with 3 cysteines and 1 arginine. Cofactor biosynthesis; biotin biosynthesis; biotin from 7,8-diaminononanoate: step 2/2. Homodimer. Belongs to the radical SAM superfamily. Biotin synthase family.                                                                                                                                                                                                                                          580\n",
       "Binds directly to 16S ribosomal RNA. Belongs to the bacterial ribosomal protein bS20 family.                                                                                                                                                                                                                                                                                                                                                                                                                                                                                                                                                                                                                                                                                                                                                                                                                                                                                      762\n",
       "ATP + L-histidine + tRNA(His) = AMP + diphosphate + H(+) + L-histidyl-tRNA(His) Homodimer. Belongs to the class-II aminoacyl-tRNA synthetase family.                                                                                                                                                                                                                                                                                                                                                                                                                                                                                                                                                                                                                                                                                                                                                                                                                              616\n",
       "Catalyzes the radical-mediated insertion of two sulfur atoms into the C-6 and C-8 positions of the octanoyl moiety bound to the lipoyl domains of lipoate-dependent enzymes, thereby converting the octanoylated domains into lipoylated derivatives. [[Fe-S] cluster scaffold protein carrying a second [4Fe-4S](2+) cluster] + 4 H(+) + N(6)-octanoyl-L-lysyl-[protein] + 2 oxidized [2Fe-2S]-[ferredoxin] + 2 S-adenosyl-L-methionine = (R)-N(6)-dihydrolipoyl-L-lysyl-[protein] + 2 5'-deoxyadenosine + [[Fe-S] cluster scaffold protein] + 4 Fe(3+) + 2 hydrogen sulfide + 2 L-methionine + 2 reduced [2Fe-2S]-[ferredoxin] Binds 2 [4Fe-4S] clusters per subunit. One cluster is coordinated with 3 cysteines and an exchangeable S-adenosyl-L-methionine. Protein modification; protein lipoylation via endogenous pathway; protein N(6)-(lipoyl)lysine from octanoyl-[acyl-carrier-protein]: step 2/2. Belongs to the radical SAM superfamily. Lipoyl synthase family.    535\n",
       "Catalyzes the formation of S-adenosylmethionine (AdoMet) from methionine and ATP. The overall synthetic reaction is composed of two sequential steps, AdoMet formation and the subsequent tripolyphosphate hydrolysis which occurs prior to release of AdoMet from the enzyme. ATP + H2O + L-methionine = diphosphate + phosphate + S-adenosyl-L-methionine Binds 2 divalent ions per subunit. Binds 1 potassium ion per subunit. Amino-acid biosynthesis; S-adenosyl-L-methionine biosynthesis; S-adenosyl-L-methionine from L-methionine: step 1/1. Homotetramer; dimer of dimers. Belongs to the AdoMet synthase family.                                                                                                                                                                                                                                                                                                                                                       617\n",
       "Catalyzes the condensation of pantoate with beta-alanine in an ATP-dependent reaction via a pantoyl-adenylate intermediate. (R)-pantoate + ATP + beta-alanine = (R)-pantothenate + AMP + diphosphate + H(+) Cofactor biosynthesis; (R)-pantothenate biosynthesis; (R)-pantothenate from (R)-pantoate and beta-alanine: step 1/1. Homodimer. The reaction proceeds by a bi uni uni bi ping pong mechanism. Belongs to the pantothenate synthetase family.                                                                                                                                                                                                                                                                                                                                                                                                                                                                                                                          527\n",
       "One of two assembly initiator proteins, it binds directly to the 5'-end of the 23S rRNA, where it nucleates assembly of the 50S subunit. One of the proteins that surrounds the polypeptide exit tunnel on the outside of the subunit. Part of the 50S ribosomal subunit. Belongs to the universal ribosomal protein uL24 family.                                                                                                                                                                                                                                                                                                                                                                                                                                                                                                                                                                                                                                                 779\n",
       "Specifically dimethylates two adjacent adenosines (A1518 and A1519) in the loop of a conserved hairpin near the 3'-end of 16S rRNA in the 30S particle. May play a critical role in biogenesis of 30S subunits. adenosine(1518)/adenosine(1519) in 16S rRNA + 4 S-adenosyl-L-methionine = 4 H(+) + N(6)-dimethyladenosine(1518)/N(6)-dimethyladenosine(1519) in 16S rRNA + 4 S-adenosyl-L-homocysteine Belongs to the class I-like SAM-binding methyltransferase superfamily. rRNA adenine N(6)-methyltransferase family. RsmA subfamily.                                                                                                                                                                                                                                                                                                                                                                                                                                         619\n",
       "One of the primary rRNA binding proteins, it binds directly to 16S rRNA where it nucleates assembly of the head domain of the 30S subunit. Is located at the subunit interface close to the decoding center, probably blocks exit of the E-site tRNA. Part of the 30S ribosomal subunit. Contacts proteins S9 and S11. Belongs to the universal ribosomal protein uS7 family.                                                                                                                                                                                                                                                                                                                                                                                                                                                                                                                                                                                                     793\n",
       "IGPS catalyzes the conversion of PRFAR and glutamine to IGP, AICAR and glutamate. The HisF subunit catalyzes the cyclization activity that produces IGP and AICAR from PRFAR using the ammonia provided by the HisH subunit. 5-[(5-phospho-1-deoxy-D-ribulos-1-ylimino)methylamino]-1-(5-phospho-beta-D-ribosyl)imidazole-4-carboxamide + L-glutamine = 5-amino-1-(5-phospho-beta-D-ribosyl)imidazole-4-carboxamide + D-erythro-1-(imidazol-4-yl)glycerol 3-phosphate + H(+) + L-glutamate Amino-acid biosynthesis; L-histidine biosynthesis; L-histidine from 5-phospho-alpha-D-ribose 1-diphosphate: step 5/9. Heterodimer of HisH and HisF. Belongs to the HisA/HisF family.                                                                                                                                                                                                                                                                                                   555\n",
       "Binds to the 23S rRNA. Part of the 50S ribosomal subunit. Belongs to the universal ribosomal protein uL15 family.                                                                                                                                                                                                                                                                                                                                                                                                                                                                                                                                                                                                                                                                                                                                                                                                                                                                 773\n",
       "This protein promotes the GTP-dependent binding of aminoacyl-tRNA to the A-site of ribosomes during protein biosynthesis. Monomer. Belongs to the TRAFAC class translation factor GTPase superfamily. Classic translation factor GTPase family. EF-Tu/EF-1A subfamily.                                                                                                                                                                                                                                                                                                                                                                                                                                                                                                                                                                                                                                                                                                            758\n",
       "Major role in the synthesis of nucleoside triphosphates other than ATP. The ATP gamma phosphate is transferred to the NDP beta phosphate via a ping-pong mechanism, using a phosphorylated active-site intermediate. a 2'-deoxyribonucleoside 5'-diphosphate + ATP = a 2'-deoxyribonucleoside 5'-triphosphate + ADP a ribonucleoside 5'-diphosphate + ATP = a ribonucleoside 5'-triphosphate + ADP Homotetramer. Belongs to the NDK family.                                                                                                                                                                                                                                                                                                                                                                                                                                                                                                                                       574\n",
       "Can catalyze the hydrolysis of ATP in the presence of single-stranded DNA, the ATP-dependent uptake of single-stranded DNA by duplex DNA, and the ATP-dependent hybridization of homologous single-stranded DNAs. It interacts with LexA causing its activation and leading to its autocatalytic cleavage. Belongs to the RecA family.                                                                                                                                                                                                                                                                                                                                                                                                                                                                                                                                                                                                                                            602\n",
       "Carrier of the growing fatty acid chain in fatty acid biosynthesis. Lipid metabolism; fatty acid biosynthesis. 4'-phosphopantetheine is transferred from CoA to a specific serine of apo-ACP by AcpS. This modification is essential for activity because fatty acids are bound in thioester linkage to the sulfhydryl of the prosthetic group. Belongs to the acyl carrier protein (ACP) family.                                                                                                                                                                                                                                                                                                                                                                                                                                                                                                                                                                                 504\n",
       "Reversibly transfers an adenylyl group from ATP to 4'-phosphopantetheine, yielding dephospho-CoA (dPCoA) and pyrophosphate. (R)-4'-phosphopantetheine + ATP + H(+) = 3'-dephospho-CoA + diphosphate Cofactor biosynthesis; coenzyme A biosynthesis; CoA from (R)-pantothenate: step 4/5. Homohexamer. Belongs to the bacterial CoaD family.                                                                                                                                                                                                                                                                                                                                                                                                                                                                                                                                                                                                                                       646\n",
       "1-(5-phospho-beta-D-ribosyl)-5-[(5-phospho-beta-D-ribosylamino)methylideneamino]imidazole-4-carboxamide = 5-[(5-phospho-1-deoxy-D-ribulos-1-ylimino)methylamino]-1-(5-phospho-beta-D-ribosyl)imidazole-4-carboxamide Amino-acid biosynthesis; L-histidine biosynthesis; L-histidine from 5-phospho-alpha-D-ribose 1-diphosphate: step 4/9. Belongs to the HisA/HisF family.                                                                                                                                                                                                                                                                                                                                                                                                                                                                                                                                                                                                       610\n",
       "Part of the 50S ribosomal subunit. Contacts protein L32. Belongs to the bacterial ribosomal protein bL17 family.                                                                                                                                                                                                                                                                                                                                                                                                                                                                                                                                                                                                                                                                                                                                                                                                                                                                  779\n",
       "Binds 23S rRNA and is also seen to make contacts with the A and possibly P site tRNAs. Part of the 50S ribosomal subunit. Belongs to the universal ribosomal protein uL16 family.                                                                                                                                                                                                                                                                                                                                                                                                                                                                                                                                                                                                                                                                                                                                                                                                 804\n",
       "Specifically methylates the N4 position of cytidine in position 1402 (C1402) of 16S rRNA. cytidine(1402) in 16S rRNA + S-adenosyl-L-methionine = H(+) + N(4)-methylcytidine(1402) in 16S rRNA + S-adenosyl-L-homocysteine Belongs to the methyltransferase superfamily. RsmH family.                                                                                                                                                                                                                                                                                                                                                                                                                                                                                                                                                                                                                                                                                              818\n",
       "Name: count, dtype: int64"
      ]
     },
     "execution_count": 7,
     "metadata": {},
     "output_type": "execute_result"
    }
   ],
   "source": [
    "selected = df[\"Text\"].value_counts()[df[\"Text\"].value_counts() > 500].sample(24, random_state=42)\n",
    "selected"
   ]
  },
  {
   "cell_type": "code",
   "execution_count": 8,
   "metadata": {},
   "outputs": [],
   "source": [
    "#take one of each entry in selected from df\n",
    "df_selected = pd.DataFrame()\n",
    "for index in selected.index:\n",
    "    df_selected = pd.concat([df_selected, df[df[\"Text\"] == index].sample(1, random_state=42)])\n",
    "\n",
    "#TODO: manually modify the sentences\n"
   ]
  },
  {
   "cell_type": "markdown",
   "metadata": {},
   "source": [
    "### Prompts for inference in ProteinDT"
   ]
  },
  {
   "cell_type": "code",
   "execution_count": null,
   "metadata": {},
   "outputs": [],
   "source": [
    "#write it to a protein.txt and a text.txt file in the original format\n",
    "os.makedirs(\"modified_24\", exist_ok=True)\n",
    "\n",
    "with open(\"modified_24/text_sequence.txt\", \"w\") as file:\n",
    "    for index, row in df_selected.iterrows():\n",
    "        file.write(index + \"\\n\")\n",
    "        file.write(row[\"Text\"] + \"\\n\")\n",
    "\n",
    "with open(\"modified_24/protein_sequence.txt\", \"w\") as file:\n",
    "    for index, row in df_selected.iterrows():\n",
    "        file.write(index + \"\\n\")\n",
    "        file.write(row[\"Sequence\"] + \"\\n\")\n"
   ]
  },
  {
   "cell_type": "code",
   "execution_count": null,
   "metadata": {},
   "outputs": [],
   "source": [
    "#make a file of inference prompts, where each row is a text prompt.\n",
    "#This is for running generation with ProteinDT\n",
    "#../../examples/downstream_Text2Protein/\n",
    "with open(\"step_01_text_retrieval.txt\", \"w\") as file:\n",
    "    for text in selected.index:\n",
    "        for i in range(200):\n",
    "            file.write(text + \"\\n\")"
   ]
  },
  {
   "cell_type": "markdown",
   "metadata": {},
   "source": [
    "### Save sharded dataset"
   ]
  },
  {
   "cell_type": "code",
   "execution_count": 15,
   "metadata": {},
   "outputs": [],
   "source": [
    "#shuffle the df\n",
    "shuffled_df = df.sample(frac=1, random_state=42)"
   ]
  },
  {
   "cell_type": "code",
   "execution_count": 20,
   "metadata": {},
   "outputs": [],
   "source": [
    "name = \"swissprot-text\"\n",
    "\n",
    "#ensure the directory exists\n",
    "os.makedirs('../sharded_datasets/{}'.format(name), exist_ok=True)\n",
    "\n",
    "for split in ['train']:\n",
    "    shuffled_df.to_csv('../sharded_datasets/{}/{}.csv'.format(name, split))\n",
    "    #split_df = pd.read_csv('data/{}/{}.csv'.format(name, split))\n",
    "                    \n",
    "    sequences = shuffled_df['Sequence'].values.tolist()\n",
    "    texts = shuffled_df['Text'].values.tolist()\n",
    "\n",
    "    output_dir = '../sharded_datasets/{}/{}'.format(name, split)\n",
    "    #ensure the directory exists\n",
    "    os.makedirs(output_dir, exist_ok=True)\n",
    "\n",
    "    columns = {'sequence': 'str', 'text': 'str'} \n",
    "    with MDSWriter(out=output_dir, columns=columns) as out:\n",
    "        for seq, text in zip(sequences, texts):\n",
    "            out.write({'sequence': seq, 'text': text})"
   ]
  }
 ],
 "metadata": {
  "kernelspec": {
   "display_name": "progen-conditional",
   "language": "python",
   "name": "python3"
  },
  "language_info": {
   "codemirror_mode": {
    "name": "ipython",
    "version": 3
   },
   "file_extension": ".py",
   "mimetype": "text/x-python",
   "name": "python",
   "nbconvert_exporter": "python",
   "pygments_lexer": "ipython3",
   "version": "3.10.15"
  }
 },
 "nbformat": 4,
 "nbformat_minor": 2
}
