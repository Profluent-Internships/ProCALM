{
 "cells": [
  {
   "cell_type": "code",
   "execution_count": null,
   "metadata": {},
   "outputs": [],
   "source": [
    "import os\n",
    "import numpy as np\n",
    "import pandas as pd\n",
    "import torch\n",
    "import random\n",
    "from streaming.base import MDSWriter\n",
    "\n",
    "os.chdir('../')"
   ]
  },
  {
   "cell_type": "code",
   "execution_count": 3,
   "metadata": {},
   "outputs": [],
   "source": [
    "name = 'CARE_resampled50cluster_medium_withTax'\n",
    "\n",
    "#ensure the directory exists\n",
    "os.makedirs('data/{}'.format(name), exist_ok=True)\n",
    "\n",
    "for split in ['train', 'val70', 'val90', 'test', 'train_common', 'train_rare', 'train_common_low_bacteria', 'test_common_low_bacteria']:\n",
    "    split_df = pd.read_csv('data/{}/{}.csv'.format(name, split))\n",
    "                    \n",
    "    sequences = split_df['Sequence'].values.tolist()\n",
    "    ECs = split_df['EC number'].values.tolist()\n",
    "    taxes = split_df['Tax number'].values.tolist()\n",
    "\n",
    "    output_dir = 'data/sharded_datasets/{}/{}'.format(name, split)\n",
    "    #ensure the directory exists\n",
    "    os.makedirs(output_dir, exist_ok=True)\n",
    "\n",
    "    columns = {'sequence': 'str', 'ec': 'str', 'tax': 'str'} \n",
    "    with MDSWriter(out=output_dir, columns=columns) as out:\n",
    "        for seq, ec, tax in zip(sequences, ECs, taxes):\n",
    "            out.write({'sequence': seq, 'ec': ec, 'tax': tax})"
   ]
  },
  {
   "cell_type": "markdown",
   "metadata": {},
   "source": [
    "### Save uniref sharded dataset (slow to load and save)"
   ]
  },
  {
   "cell_type": "code",
   "execution_count": null,
   "metadata": {},
   "outputs": [],
   "source": [
    "df = pd.read_csv(\"data/raw_data/uniprot_enzyme_240617.tsv\", sep='\\t')\n",
    "df = df.dropna(subset=['Sequence', 'EC number'])\n",
    "df = df[~df['EC number'].str.contains(';')]\n",
    "#shuffle the dataframe\n",
    "df = df.sample(frac=1, random_state=42, replace=False)\n",
    "sequences = df['Sequence'].values.tolist()\n",
    "ECs = df['EC number'].values.tolist()"
   ]
  },
  {
   "cell_type": "code",
   "execution_count": null,
   "metadata": {},
   "outputs": [],
   "source": [
    "output_dir = 'data/sharded_datasets/all_uniref/train'\n",
    "#ensure the directory exists\n",
    "os.makedirs(output_dir, exist_ok=True)\n",
    "\n",
    "columns = {'sequence': 'str', 'ec': 'str'}\n",
    "with MDSWriter(out=output_dir, columns=columns) as out:\n",
    "    for seq, ec in zip(sequences, ECs):\n",
    "        out.write({'sequence': seq, 'ec': ec})"
   ]
  }
 ],
 "metadata": {
  "kernelspec": {
   "display_name": "progen-conditional",
   "language": "python",
   "name": "python3"
  },
  "language_info": {
   "codemirror_mode": {
    "name": "ipython",
    "version": 3
   },
   "file_extension": ".py",
   "mimetype": "text/x-python",
   "name": "python",
   "nbconvert_exporter": "python",
   "pygments_lexer": "ipython3",
   "version": "3.10.14"
  }
 },
 "nbformat": 4,
 "nbformat_minor": 2
}
